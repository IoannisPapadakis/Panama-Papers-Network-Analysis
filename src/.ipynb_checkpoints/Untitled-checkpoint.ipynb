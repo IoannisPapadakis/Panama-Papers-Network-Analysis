{
 "cells": [
  {
   "cell_type": "code",
   "execution_count": 1,
   "metadata": {
    "collapsed": true
   },
   "outputs": [],
   "source": [
    "import networkx as nx\n",
    "import pandas as pd\n",
    "import numpy as np\n",
    "import matplotlib.pyplot as plt\n",
    "%matplotlib inline"
   ]
  },
  {
   "cell_type": "code",
   "execution_count": 2,
   "metadata": {},
   "outputs": [
    {
     "name": "stderr",
     "output_type": "stream",
     "text": [
      "/Applications/anaconda/lib/python3.6/site-packages/IPython/core/interactiveshell.py:2698: DtypeWarning: Columns (4,5) have mixed types. Specify dtype option on import or set low_memory=False.\n",
      "  interactivity=interactivity, compiler=compiler, result=result)\n",
      "/Applications/anaconda/lib/python3.6/site-packages/IPython/core/interactiveshell.py:2698: DtypeWarning: Columns (16) have mixed types. Specify dtype option on import or set low_memory=False.\n",
      "  interactivity=interactivity, compiler=compiler, result=result)\n"
     ]
    }
   ],
   "source": [
    "edges = pd.read_csv('/Users/rdelapp/Galvanize/DSI_g61/capstone/panama_papers/data/csv_panama_papers_2018-02-14/panama_papers_edges.csv')\n",
    "edges = edges[edges[\"TYPE\"] != \"registrated address\"]\n",
    "F = nx.from_pandas_dataframe(edges, \"START_ID\", \"END_ID\") # Return a graph from Pandas DataFrame.\n",
    "\n",
    "#\n",
    "\n",
    "# Read node lists\n",
    "officers       = pd.read_csv('/Users/rdelapp/Galvanize/DSI_g61/capstone/panama_papers/data/csv_panama_papers_2018-02-14/panama_papers_nodes_officer.csv', index_col = \"node_id\")\n",
    "intermediaries = pd.read_csv('/Users/rdelapp/Galvanize/DSI_g61/capstone/panama_papers/data/csv_panama_papers_2018-02-14/panama_papers_nodes_intermediary.csv', index_col = \"node_id\")\n",
    "entities       = pd.read_csv('/Users/rdelapp/Galvanize/DSI_g61/capstone/panama_papers/data/csv_panama_papers_2018-02-14/panama_papers_nodes_entity.csv', index_col = \"node_id\")\n",
    "addresses      = pd.read_csv('/Users/rdelapp/Galvanize/DSI_g61/capstone/panama_papers/data/csv_panama_papers_2018-02-14/panama_papers_nodes_address.csv', index_col = \"node_id\")"
   ]
  },
  {
   "cell_type": "code",
   "execution_count": 3,
   "metadata": {},
   "outputs": [
    {
     "ename": "AttributeError",
     "evalue": "'str' object has no attribute 'colums'",
     "output_type": "error",
     "traceback": [
      "\u001b[0;31m---------------------------------------------------------------------------\u001b[0m",
      "\u001b[0;31mAttributeError\u001b[0m                            Traceback (most recent call last)",
      "\u001b[0;32m<ipython-input-3-eec33b24c988>\u001b[0m in \u001b[0;36m<module>\u001b[0;34m()\u001b[0m\n\u001b[1;32m      1\u001b[0m \u001b[0mlist_documents\u001b[0m \u001b[0;34m=\u001b[0m \u001b[0;34m[\u001b[0m\u001b[0;34m'edges'\u001b[0m\u001b[0;34m,\u001b[0m\u001b[0;34m'officers'\u001b[0m\u001b[0;34m,\u001b[0m \u001b[0;34m'intermediaries'\u001b[0m\u001b[0;34m,\u001b[0m \u001b[0;34m]\u001b[0m\u001b[0;34m\u001b[0m\u001b[0m\n\u001b[0;32m----> 2\u001b[0;31m \u001b[0;34m[\u001b[0m\u001b[0melem\u001b[0m\u001b[0;34m.\u001b[0m\u001b[0mcolums\u001b[0m \u001b[0;32mfor\u001b[0m \u001b[0melem\u001b[0m \u001b[0;32min\u001b[0m \u001b[0mlist_documents\u001b[0m\u001b[0;34m]\u001b[0m\u001b[0;34m\u001b[0m\u001b[0m\n\u001b[0m",
      "\u001b[0;32m<ipython-input-3-eec33b24c988>\u001b[0m in \u001b[0;36m<listcomp>\u001b[0;34m(.0)\u001b[0m\n\u001b[1;32m      1\u001b[0m \u001b[0mlist_documents\u001b[0m \u001b[0;34m=\u001b[0m \u001b[0;34m[\u001b[0m\u001b[0;34m'edges'\u001b[0m\u001b[0;34m,\u001b[0m\u001b[0;34m'officers'\u001b[0m\u001b[0;34m,\u001b[0m \u001b[0;34m'intermediaries'\u001b[0m\u001b[0;34m,\u001b[0m \u001b[0;34m]\u001b[0m\u001b[0;34m\u001b[0m\u001b[0m\n\u001b[0;32m----> 2\u001b[0;31m \u001b[0;34m[\u001b[0m\u001b[0melem\u001b[0m\u001b[0;34m.\u001b[0m\u001b[0mcolums\u001b[0m \u001b[0;32mfor\u001b[0m \u001b[0melem\u001b[0m \u001b[0;32min\u001b[0m \u001b[0mlist_documents\u001b[0m\u001b[0;34m]\u001b[0m\u001b[0;34m\u001b[0m\u001b[0m\n\u001b[0m",
      "\u001b[0;31mAttributeError\u001b[0m: 'str' object has no attribute 'colums'"
     ]
    }
   ],
   "source": [
    "list_documents = ['edges','officers', 'intermediaries', ]\n",
    "[elem.colums for elem in list_documents]"
   ]
  },
  {
   "cell_type": "code",
   "execution_count": 6,
   "metadata": {},
   "outputs": [
    {
     "data": {
      "text/plain": [
       "Index(['name', 'address', 'country_codes', 'countries', 'sourceID',\n",
       "       'valid_until', 'note'],\n",
       "      dtype='object')"
      ]
     },
     "execution_count": 6,
     "metadata": {},
     "output_type": "execute_result"
    }
   ],
   "source": [
    "edges.columns"
   ]
  },
  {
   "cell_type": "code",
   "execution_count": 8,
   "metadata": {},
   "outputs": [
    {
     "data": {
      "text/plain": [
       "Index(['name', 'country_codes', 'countries', 'sourceID', 'valid_until',\n",
       "       'note'],\n",
       "      dtype='object')"
      ]
     },
     "execution_count": 8,
     "metadata": {},
     "output_type": "execute_result"
    }
   ],
   "source": [
    "officers.columns\n"
   ]
  },
  {
   "cell_type": "code",
   "execution_count": 9,
   "metadata": {},
   "outputs": [
    {
     "data": {
      "text/plain": [
       "Index(['name', 'country_codes', 'countries', 'status', 'sourceID',\n",
       "       'valid_until', 'note'],\n",
       "      dtype='object')"
      ]
     },
     "execution_count": 9,
     "metadata": {},
     "output_type": "execute_result"
    }
   ],
   "source": [
    "intermediaries.columns\n"
   ]
  },
  {
   "cell_type": "code",
   "execution_count": 10,
   "metadata": {},
   "outputs": [
    {
     "data": {
      "text/plain": [
       "Index(['name', 'jurisdiction', 'jurisdiction_description', 'country_codes',\n",
       "       'countries', 'incorporation_date', 'inactivation_date',\n",
       "       'struck_off_date', 'closed_date', 'ibcRUC', 'status', 'company_type',\n",
       "       'service_provider', 'sourceID', 'valid_until', 'note'],\n",
       "      dtype='object')"
      ]
     },
     "execution_count": 10,
     "metadata": {},
     "output_type": "execute_result"
    }
   ],
   "source": [
    "entities.columns\n"
   ]
  },
  {
   "cell_type": "code",
   "execution_count": 7,
   "metadata": {},
   "outputs": [
    {
     "data": {
      "text/plain": [
       "Index(['name', 'address', 'country_codes', 'countries', 'sourceID',\n",
       "       'valid_until', 'note'],\n",
       "      dtype='object')"
      ]
     },
     "execution_count": 7,
     "metadata": {},
     "output_type": "execute_result"
    }
   ],
   "source": [
    "addresses.columns"
   ]
  },
  {
   "cell_type": "code",
   "execution_count": 11,
   "metadata": {
    "collapsed": true
   },
   "outputs": [],
   "source": [
    "# Combine the node lists into one dataframe\n",
    "officers[\"type\"] = \"officer\"\n",
    "intermediaries[\"type\"] = \"intermediary\"\n",
    "entities[\"type\"] = \"entity\"\n",
    "addresses[\"type\"] = \"address\"\n",
    "\n",
    "#Concatentate\n",
    "all_nodes = pd.concat([officers, intermediaries, entities])\n",
    "\n",
    "# Do some cleanup of names\n",
    "all_nodes[\"name\"] = all_nodes[\"name\"].str.upper().str.replace(' ','_')\n",
    "\n",
    "# Ensure that all \"Bearers\" do not become a single node\n",
    "all_nodes[\"name\"].replace(\n",
    "    to_replace = [r\"MRS?\\.\\s+\", r\"\\.\", r\"\\s+\", \"LIMITED\", \"THE BEARER\", \"BEARER\", \"BEARER 1\", \"EL PORTADOR\", \"AL PORTADOR\"],\n",
    "    value = [\"\",\"\", \"\", \"LTD\", np.nan, np.nan, np.nan, np.nan, np.nan],\n",
    "    inplace = True, regex = True)"
   ]
  },
  {
   "cell_type": "code",
   "execution_count": null,
   "metadata": {
    "collapsed": true
   },
   "outputs": [],
   "source": [
    "CCODES = \"SAU\", \"JOR\"\n",
    "#seeds = all_nodes[all_nodes[\"country_codes\"] == 'SAU'].index\n",
    "seeds = all_nodes[all_nodes[\"country_codes\"].isin(CCODES)].index\n",
    "\n",
    "# # Next Computes the shortest path from the node seed to all reachable nodes that\n",
    "# # are cutoff hops away and closer.  The function returns a dictionary with the target nodes as keys,\n",
    "# # so the keys are the cutoff-neighborhood of the seed.\n",
    "nodes_of_interest = set.union(*[set(nx.single_source_shortest_path_length(F, seed, cutoff = 2).keys())\n",
    "                               for seed in seeds])\n",
    "# Extract the subgraph that contains all the keys for all the dictionaries\n",
    "# with all the connecting eges ... and relabel it\n",
    "ego = nx.subgraph(F, nodes_of_interest)\n",
    "nodes = all_nodes.reindex(ego)\n",
    "# nodes = all_nodes.ix[ego.nodes()]\n",
    "nodes = nodes[~nodes.index.duplicated()] # There are duplicate countru codes on some nodes\n",
    "\n",
    "#  Sets node attributes for nodes[\"country_codes\"] from a given value or dictionary of values\n",
    "nx.set_node_attributes(ego, nodes[\"country_codes\"], \"cc\")\n",
    "nx.set_node_attributes(ego, nodes[\"type\"], \"ty\")\n",
    "nx.set_node_attributes(ego, nodes[\"name\"], \"nm\")\n",
    "# get rid of null and turn the list into a dictionary\n",
    "valid_names = nodes[nodes[\"name\"].notnull()][\"name\"].to_dict()\n",
    "ego = nx.relabel_nodes(ego, nodes[nodes.name.notnull()].name)\n",
    "ego = nx.relabel_nodes(ego, nodes[nodes.address.notnull()\n",
    "                                & nodes.name.isnull()].address)\n",
    "nx.relabel_nodes(ego, valid_names)"
   ]
  },
  {
   "cell_type": "code",
   "execution_count": null,
   "metadata": {
    "collapsed": true
   },
   "outputs": [],
   "source": []
  },
  {
   "cell_type": "code",
   "execution_count": null,
   "metadata": {
    "collapsed": true
   },
   "outputs": [],
   "source": []
  },
  {
   "cell_type": "code",
   "execution_count": null,
   "metadata": {
    "collapsed": true
   },
   "outputs": [],
   "source": []
  },
  {
   "cell_type": "code",
   "execution_count": null,
   "metadata": {
    "collapsed": true
   },
   "outputs": [],
   "source": [
    "filename = \"jupyter\"\n",
    "with open (\"/Users/rdelapp/Galvanize/DSI_g61/capstone/panama_papers/figures/panama-{y}.graphml\".format(y=filename), \"wb\") as ofile:\n",
    "    nx.write_graphml(ego, ofile)\n",
    "pass"
   ]
  }
 ],
 "metadata": {
  "kernelspec": {
   "display_name": "Python 3",
   "language": "python",
   "name": "python3"
  },
  "language_info": {
   "codemirror_mode": {
    "name": "ipython",
    "version": 3
   },
   "file_extension": ".py",
   "mimetype": "text/x-python",
   "name": "python",
   "nbconvert_exporter": "python",
   "pygments_lexer": "ipython3",
   "version": "3.6.4"
  }
 },
 "nbformat": 4,
 "nbformat_minor": 2
}
