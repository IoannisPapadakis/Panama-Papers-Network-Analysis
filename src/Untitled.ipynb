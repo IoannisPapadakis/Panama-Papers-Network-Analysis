{
 "cells": [
  {
   "cell_type": "code",
   "execution_count": 5,
   "metadata": {
    "collapsed": true
   },
   "outputs": [],
   "source": [
    "import networkx as nx\n",
    "import pandas as pd\n",
    "import numpy as np\n",
    "import matplotlib.pyplot as plt\n",
    "import measuring2 as mrs\n",
    "import load_and_graph2 as lg\n",
    "import community as cm\n",
    "%matplotlib inline"
   ]
  },
  {
   "cell_type": "code",
   "execution_count": 6,
   "metadata": {},
   "outputs": [
    {
     "name": "stderr",
     "output_type": "stream",
     "text": [
      "/Applications/anaconda/lib/python3.6/site-packages/IPython/core/interactiveshell.py:2698: DtypeWarning: Columns (4,5) have mixed types. Specify dtype option on import or set low_memory=False.\n",
      "  interactivity=interactivity, compiler=compiler, result=result)\n",
      "/Applications/anaconda/lib/python3.6/site-packages/IPython/core/interactiveshell.py:2698: DtypeWarning: Columns (16) have mixed types. Specify dtype option on import or set low_memory=False.\n",
      "  interactivity=interactivity, compiler=compiler, result=result)\n"
     ]
    }
   ],
   "source": [
    "edges = pd.read_csv('/Users/rdelapp/Galvanize/DSI_g61/capstone/panama_papers/data/csv_panama_papers_2018-02-14/panama_papers_edges.csv')\n",
    "edges = edges[edges[\"TYPE\"] != \"registrated address\"]\n",
    "F = nx.from_pandas_dataframe(edges, \"START_ID\", \"END_ID\") # Return a graph from Pandas DataFrame.\n",
    "\n",
    "#\n",
    "\n",
    "# Read node lists\n",
    "officers       = pd.read_csv('/Users/rdelapp/Galvanize/DSI_g61/capstone/panama_papers/data/csv_panama_papers_2018-02-14/panama_papers_nodes_officer.csv', index_col = \"node_id\")\n",
    "intermediaries = pd.read_csv('/Users/rdelapp/Galvanize/DSI_g61/capstone/panama_papers/data/csv_panama_papers_2018-02-14/panama_papers_nodes_intermediary.csv', index_col = \"node_id\")\n",
    "entities       = pd.read_csv('/Users/rdelapp/Galvanize/DSI_g61/capstone/panama_papers/data/csv_panama_papers_2018-02-14/panama_papers_nodes_entity.csv', index_col = \"node_id\")\n",
    "addresses      = pd.read_csv('/Users/rdelapp/Galvanize/DSI_g61/capstone/panama_papers/data/csv_panama_papers_2018-02-14/panama_papers_nodes_address.csv', index_col = \"node_id\")"
   ]
  },
  {
   "cell_type": "code",
   "execution_count": 3,
   "metadata": {},
   "outputs": [
    {
     "name": "stderr",
     "output_type": "stream",
     "text": [
      "/Applications/anaconda/lib/python3.6/site-packages/IPython/core/interactiveshell.py:2802: DtypeWarning: Columns (4,5) have mixed types. Specify dtype option on import or set low_memory=False.\n",
      "  if self.run_code(code, result):\n",
      "/Applications/anaconda/lib/python3.6/site-packages/IPython/core/interactiveshell.py:2802: DtypeWarning: Columns (16) have mixed types. Specify dtype option on import or set low_memory=False.\n",
      "  if self.run_code(code, result):\n"
     ]
    }
   ],
   "source": [
    "G, all_nodes = lg.load_clean_data()\n",
    "ego = lg.build_subgraph(G, all_nodes)"
   ]
  },
  {
   "cell_type": "code",
   "execution_count": 7,
   "metadata": {},
   "outputs": [],
   "source": [
    "partition = cm.best_partition(ego) # Louvian"
   ]
  },
  {
   "cell_type": "code",
   "execution_count": 13,
   "metadata": {},
   "outputs": [
    {
     "data": {
      "text/plain": [
       "dict_values"
      ]
     },
     "execution_count": 13,
     "metadata": {},
     "output_type": "execute_result"
    }
   ],
   "source": [
    "type(partition.values())"
   ]
  },
  {
   "cell_type": "code",
   "execution_count": 10,
   "metadata": {},
   "outputs": [
    {
     "ename": "IndexError",
     "evalue": "list assignment index out of range",
     "output_type": "error",
     "traceback": [
      "\u001b[0;31m---------------------------------------------------------------------------\u001b[0m",
      "\u001b[0;31mIndexError\u001b[0m                                Traceback (most recent call last)",
      "\u001b[0;32m<ipython-input-10-9578680751db>\u001b[0m in \u001b[0;36m<module>\u001b[0;34m()\u001b[0m\n\u001b[1;32m      2\u001b[0m \u001b[0;32mfor\u001b[0m \u001b[0mcom\u001b[0m \u001b[0;32min\u001b[0m \u001b[0mset\u001b[0m\u001b[0;34m(\u001b[0m\u001b[0mpartition\u001b[0m\u001b[0;34m.\u001b[0m\u001b[0mvalues\u001b[0m\u001b[0;34m(\u001b[0m\u001b[0;34m)\u001b[0m\u001b[0;34m)\u001b[0m\u001b[0;34m:\u001b[0m\u001b[0;34m\u001b[0m\u001b[0m\n\u001b[1;32m      3\u001b[0m     \u001b[0mlist_nodes\u001b[0m \u001b[0;34m=\u001b[0m \u001b[0;34m[\u001b[0m\u001b[0mnodes\u001b[0m \u001b[0;32mfor\u001b[0m \u001b[0mnodes\u001b[0m \u001b[0;32min\u001b[0m \u001b[0mpartition\u001b[0m\u001b[0;34m.\u001b[0m\u001b[0mkeys\u001b[0m\u001b[0;34m(\u001b[0m\u001b[0;34m)\u001b[0m \u001b[0;32mif\u001b[0m \u001b[0mpartition\u001b[0m\u001b[0;34m[\u001b[0m\u001b[0mnodes\u001b[0m\u001b[0;34m]\u001b[0m \u001b[0;34m==\u001b[0m \u001b[0mcom\u001b[0m\u001b[0;34m]\u001b[0m\u001b[0;34m\u001b[0m\u001b[0m\n\u001b[0;32m----> 4\u001b[0;31m     \u001b[0mego2\u001b[0m\u001b[0;34m[\u001b[0m\u001b[0mcom\u001b[0m\u001b[0;34m]\u001b[0m \u001b[0;34m=\u001b[0m \u001b[0mnx\u001b[0m\u001b[0;34m.\u001b[0m\u001b[0msubgraph\u001b[0m\u001b[0;34m(\u001b[0m\u001b[0mego\u001b[0m\u001b[0;34m,\u001b[0m \u001b[0mlist_nodes\u001b[0m\u001b[0;34m)\u001b[0m\u001b[0;34m\u001b[0m\u001b[0m\n\u001b[0m",
      "\u001b[0;31mIndexError\u001b[0m: list assignment index out of range"
     ]
    }
   ],
   "source": [
    "from collections import default dict\n",
    "for k,v in set(partition.values()):\n",
    "    list_nodes = [nodes for nodes in partition.keys() if partition[nodes] == com]\n",
    "    ego2 = nx.subgraph(ego, list_nodes)"
   ]
  },
  {
   "cell_type": "code",
   "execution_count": null,
   "metadata": {
    "collapsed": true
   },
   "outputs": [],
   "source": []
  },
  {
   "cell_type": "code",
   "execution_count": 38,
   "metadata": {
    "collapsed": true
   },
   "outputs": [],
   "source": [
    "# edges.head(10)"
   ]
  },
  {
   "cell_type": "code",
   "execution_count": 8,
   "metadata": {},
   "outputs": [
    {
     "data": {
      "text/plain": [
       "Index(['name', 'country_codes', 'countries', 'sourceID', 'valid_until',\n",
       "       'note'],\n",
       "      dtype='object')"
      ]
     },
     "execution_count": 8,
     "metadata": {},
     "output_type": "execute_result"
    }
   ],
   "source": [
    "officers.columns\n"
   ]
  },
  {
   "cell_type": "code",
   "execution_count": 9,
   "metadata": {},
   "outputs": [
    {
     "data": {
      "text/plain": [
       "Index(['name', 'country_codes', 'countries', 'status', 'sourceID',\n",
       "       'valid_until', 'note'],\n",
       "      dtype='object')"
      ]
     },
     "execution_count": 9,
     "metadata": {},
     "output_type": "execute_result"
    }
   ],
   "source": [
    "intermediaries.columns\n"
   ]
  },
  {
   "cell_type": "code",
   "execution_count": 10,
   "metadata": {},
   "outputs": [
    {
     "data": {
      "text/plain": [
       "Index(['name', 'jurisdiction', 'jurisdiction_description', 'country_codes',\n",
       "       'countries', 'incorporation_date', 'inactivation_date',\n",
       "       'struck_off_date', 'closed_date', 'ibcRUC', 'status', 'company_type',\n",
       "       'service_provider', 'sourceID', 'valid_until', 'note'],\n",
       "      dtype='object')"
      ]
     },
     "execution_count": 10,
     "metadata": {},
     "output_type": "execute_result"
    }
   ],
   "source": [
    "entities.columns\n"
   ]
  },
  {
   "cell_type": "code",
   "execution_count": 7,
   "metadata": {},
   "outputs": [
    {
     "data": {
      "text/plain": [
       "Index(['name', 'address', 'country_codes', 'countries', 'sourceID',\n",
       "       'valid_until', 'note'],\n",
       "      dtype='object')"
      ]
     },
     "execution_count": 7,
     "metadata": {},
     "output_type": "execute_result"
    }
   ],
   "source": [
    "addresses.columns"
   ]
  },
  {
   "cell_type": "code",
   "execution_count": 7,
   "metadata": {
    "collapsed": true
   },
   "outputs": [],
   "source": [
    "# Combine the node lists into one dataframe\n",
    "officers[\"type\"] = \"officer\"\n",
    "intermediaries[\"type\"] = \"intermediary\"\n",
    "entities[\"type\"] = \"entity\"\n",
    "addresses[\"type\"] = \"address\"\n",
    "\n",
    "#Concatentate\n",
    "all_nodes = pd.concat([officers, intermediaries, entities])\n",
    "\n",
    "# Do some cleanup of names\n",
    "all_nodes[\"name\"] = all_nodes[\"name\"].str.upper().str.replace(' ','_')\n",
    "\n",
    "# Ensure that all \"Bearers\" do not become a single node\n",
    "all_nodes[\"name\"].replace(\n",
    "    to_replace = [r\"MRS?\\.\\s+\", r\"\\.\", r\"\\s+\", \"LIMITED\", \"THE BEARER\", \"BEARER\", \"BEARER 1\", \"EL PORTADOR\", \"AL PORTADOR\"],\n",
    "    value = [\"\",\"\", \"\", \"LTD\", np.nan, np.nan, np.nan, np.nan, np.nan],\n",
    "    inplace = True, regex = True)"
   ]
  },
  {
   "cell_type": "code",
   "execution_count": 28,
   "metadata": {
    "collapsed": true
   },
   "outputs": [],
   "source": [
    "# if \"ISSUES OF:\" in F:\n",
    "#     F.remove_node(\"ISSUES OF:\")\n",
    "\n",
    "# if \"\" in F:\n",
    "#     F.remove_node(\"\")"
   ]
  },
  {
   "cell_type": "code",
   "execution_count": 8,
   "metadata": {
    "collapsed": true
   },
   "outputs": [],
   "source": [
    "CCODES = \"SAU\", \"JOR\"\n",
    "#seeds = all_nodes[all_nodes[\"country_codes\"] == 'SAU'].index\n",
    "seeds = all_nodes[all_nodes[\"country_codes\"].isin(CCODES)].index\n",
    "\n",
    "# # Next Computes the shortest path from the node seed to all reachable nodes that\n",
    "# # are cutoff hops away and closer.  The function returns a dictionary with the target nodes as keys,\n",
    "# # so the keys are the cutoff-neighborhood of the seed.\n",
    "nodes_of_interest = set.union(*[set(nx.single_source_shortest_path_length(F, seed, cutoff = 2).keys())\n",
    "                               for seed in seeds])\n",
    "# Extract the subgraph that contains all the keys for all the dictionaries\n",
    "# with all the connecting eges ... and relabel it\n",
    "ego = nx.subgraph(F, nodes_of_interest)\n",
    "nodes = all_nodes.reindex(ego)\n",
    "# nodes = all_nodes.ix[ego.nodes()]\n",
    "nodes = nodes[~nodes.index.duplicated()] # There are duplicate countru codes on some nodes\n",
    "\n",
    "#  Sets node attributes for nodes[\"country_codes\"] from a given value or dictionary of values\n",
    "nx.set_node_attributes(ego, nodes[\"country_codes\"], \"cc\")\n",
    "nx.set_node_attributes(ego, nodes[\"type\"], \"ty\")\n",
    "nx.set_node_attributes(ego, nodes[\"name\"], \"nm\")\n",
    "# get rid of null and turn the list into a dictionary\n",
    "valid_names = nodes[nodes[\"name\"].notnull()][\"name\"].to_dict()\n",
    "ego = nx.relabel_nodes(ego, nodes[nodes.name.notnull()].name)\n",
    "# ego = nx.relabel_nodes(ego, nodes[nodes.address.notnull()\n",
    "#                                 & nodes.name.isnull()].address)\n",
    "# nx.relabel_nodes(ego, valid_names)"
   ]
  },
  {
   "cell_type": "code",
   "execution_count": 10,
   "metadata": {},
   "outputs": [
    {
     "data": {
      "text/plain": [
       "Int64Index([12010787, 12015283, 12015284, 12036448, 12097807, 12098963,\n",
       "            12098962, 12098655, 12098777, 12099127,\n",
       "            ...\n",
       "            10211490, 10211721, 10211969, 10212252, 10212316, 10213006,\n",
       "            10213606, 10213755, 10214059, 10214315],\n",
       "           dtype='int64', name='node_id', length=2820)"
      ]
     },
     "execution_count": 10,
     "metadata": {},
     "output_type": "execute_result"
    }
   ],
   "source": [
    "seeds"
   ]
  },
  {
   "cell_type": "code",
   "execution_count": 45,
   "metadata": {},
   "outputs": [
    {
     "data": {
      "text/plain": [
       "dict"
      ]
     },
     "execution_count": 45,
     "metadata": {},
     "output_type": "execute_result"
    }
   ],
   "source": [
    "partitions = community.best_partition(ego)\n",
    "type(partitions)"
   ]
  },
  {
   "cell_type": "code",
   "execution_count": 20,
   "metadata": {},
   "outputs": [
    {
     "data": {
      "text/plain": [
       "pandas.core.series.Series"
      ]
     },
     "execution_count": 20,
     "metadata": {},
     "output_type": "execute_result"
    }
   ],
   "source": [
    "# type(nodes[nodes.name.notnull()].name)"
   ]
  },
  {
   "cell_type": "code",
   "execution_count": 35,
   "metadata": {},
   "outputs": [
    {
     "name": "stdout",
     "output_type": "stream",
     "text": [
      "Country code assortativity: nan\n"
     ]
    },
    {
     "name": "stderr",
     "output_type": "stream",
     "text": [
      "/Applications/anaconda/lib/python3.6/site-packages/networkx/algorithms/assortativity/correlation.py:264: RuntimeWarning: invalid value encountered in true_divide\n",
      "  r=(t-s)/(1-s)\n"
     ]
    }
   ],
   "source": [
    "# Must be negative: that's what OFFSHORES are about!\n",
    "print(\"Country code assortativity:\",\n",
    "      nx.attribute_assortativity_coefficient(ego,'cc'))"
   ]
  },
  {
   "cell_type": "code",
   "execution_count": 30,
   "metadata": {
    "collapsed": true
   },
   "outputs": [],
   "source": [
    "filename = \"jupyter2\"\n",
    "with open (\"/Users/rdelapp/Galvanize/DSI_g61/capstone/panama_papers/figures/panama-{y}.graphml\".format(y=filename), \"wb\") as ofile:\n",
    "    nx.write_graphml(ego, ofile)\n",
    "pass"
   ]
  },
  {
   "cell_type": "code",
   "execution_count": 25,
   "metadata": {},
   "outputs": [
    {
     "data": {
      "text/plain": [
       "<matplotlib.collections.LineCollection at 0x151c9a44e0>"
      ]
     },
     "execution_count": 25,
     "metadata": {},
     "output_type": "execute_result"
    },
    {
     "data": {
      "image/png": "[encoded data removed]",
      "text/plain": [
       "<matplotlib.figure.Figure at 0x15372076d8>"
      ]
     },
     "metadata": {},
     "output_type": "display_data"
    }
   ],
   "source": [
    "import community\n",
    "G = ego.copy()\n",
    "\n",
    "#first compute the best partition\n",
    "partition = community.best_partition(G)\n",
    "\n",
    "# draw\n",
    "size = float(len(set(partition.values())))\n",
    "pos = nx.spring_layout(G)\n",
    "count = 0.\n",
    "for com in set(partition.values()) :\n",
    "    count = count + 1.\n",
    "    list_nodes = [nodes for nodes in partition.keys()\n",
    "                                if partition[nodes] == com]\n",
    "    nx.draw_networkx_nodes(G, pos, list_nodes, node_size = 20,\n",
    "                                node_color = str(count / size))\n",
    "\n",
    "\n",
    "nx.draw_networkx_edges(G, pos, alpha=0.5)"
   ]
  },
  {
   "cell_type": "code",
   "execution_count": 26,
   "metadata": {
    "collapsed": true
   },
   "outputs": [],
   "source": [
    "dgr = nx.degree_centrality(G)\n"
   ]
  },
  {
   "cell_type": "code",
   "execution_count": 43,
   "metadata": {
    "collapsed": true
   },
   "outputs": [],
   "source": [
    "\n",
    "all_nodes = pd.concat([officers, intermediaries, addresses, entities])\n",
    "# \n",
    "# Do some cleanup of names\n",
    "all_nodes['name'] = all_nodes['name'].str.upper()\n",
    "all_nodes['name'] = all_nodes['name'].str.strip()\n",
    "\n",
    "# Ensure that all \"Bearers\" do not become a single node\n",
    "all_nodes['name'].replace(\n",
    "    to_replace=[r'MRS?\\.\\s+', r'\\.', r'\\s+', 'LIMITED', 'THE BEARER'], \n",
    "    value=['', '', ' ', 'LTD', np.nan], \n",
    "    inplace=True, regex=True)\n",
    "\n",
    "# The network is ready to use\n",
    "# As an exercise, let's have a look at Mr.Roldugin's or Mr. Poroshenko's assets\n",
    "seeds = [12079386, 12096275, 12180773] # Roldugin\n",
    "# seeds = [12129717, 13001828] # Poroshenko\n",
    "nodes_of_interest = set.union(*[set(nx.single_source_shortest_path_length(F, x, cutoff=4).keys()) for x in seeds])\n",
    "\n",
    "# Extract the subgraph and relabel it\n",
    "ego = nx.subgraph(F, nodes_of_interest)\n",
    "\n",
    "nodes = all_nodes.reindex(ego)\n",
    "nx.set_node_attributes(ego, nodes[\"country_codes\"], \"cc\")\n",
    "ego = nx.relabel_nodes(ego, nodes[nodes.name.notnull()].name)\n",
    "ego = nx.relabel_nodes(ego, nodes[nodes.address.notnull() \n",
    "                                    & nodes.name.isnull()].address)\n",
    "\n",
    "# # Must be negative: that's what OFFSHORES are about!\n",
    "# print(\"Country code assortativity:\",\n",
    "#       nx.attribute_assortativity_coefficient(ego,'cc'))\n",
    "\n",
    "# Save and proceed to Gephi\n",
    "filename = \"jupyter_Zinoviev\"\n",
    "with open (\"/Users/rdelapp/Galvanize/DSI_g61/capstone/panama_papers/figures/panama-{y}.graphml\".format(y=filename), \"wb\") as ofile:\n",
    "    nx.write_graphml(ego, ofile)\n",
    "pass"
   ]
  },
  {
   "cell_type": "code",
   "execution_count": null,
   "metadata": {
    "collapsed": true
   },
   "outputs": [],
   "source": []
  }
 ],
 "metadata": {
  "kernelspec": {
   "display_name": "Python 3",
   "language": "python",
   "name": "python3"
  },
  "language_info": {
   "codemirror_mode": {
    "name": "ipython",
    "version": 3
   },
   "file_extension": ".py",
   "mimetype": "text/x-python",
   "name": "python",
   "nbconvert_exporter": "python",
   "pygments_lexer": "ipython3",
   "version": "3.6.4"
  }
 },
 "nbformat": 4,
 "nbformat_minor": 2
}
