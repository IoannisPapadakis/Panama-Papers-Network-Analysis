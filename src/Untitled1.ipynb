{
 "cells": [
  {
   "cell_type": "code",
   "execution_count": 2,
   "metadata": {
    "collapsed": true
   },
   "outputs": [],
   "source": [
    "import networkx as nx\n",
    "import community as cm\n"
   ]
  },
  {
   "cell_type": "code",
   "execution_count": 3,
   "metadata": {},
   "outputs": [
    {
     "name": "stdout",
     "output_type": "stream",
     "text": [
      "partition at level 0 is {0: 0, 1: 1, 2: 2, 3: 3, 4: 4, 5: 5, 6: 6, 7: 7, 8: 8, 9: 9, 10: 10, 11: 11, 12: 12, 13: 13, 14: 14, 15: 15, 16: 16, 17: 17, 18: 18, 19: 19, 20: 20, 21: 21, 22: 22, 23: 23, 24: 24, 25: 16, 26: 18, 27: 25, 28: 26, 29: 27, 30: 28, 31: 29, 32: 30, 33: 20, 34: 13, 35: 31, 36: 32, 37: 19, 38: 33, 39: 34, 40: 35, 41: 6, 42: 36, 43: 37, 44: 9, 45: 38, 46: 39, 47: 36, 48: 40, 49: 41, 50: 12, 51: 42, 52: 43, 53: 44, 54: 38, 55: 37, 56: 4, 57: 5, 58: 45, 59: 46, 60: 47, 61: 46, 62: 44, 63: 11, 64: 48, 65: 49, 66: 36, 67: 50, 68: 12, 69: 48, 70: 12, 71: 51, 72: 52, 73: 53, 74: 54, 75: 46, 76: 55, 77: 56, 78: 0, 79: 57, 80: 58, 81: 1, 82: 37, 83: 59, 84: 60, 85: 24, 86: 35, 87: 42, 88: 61, 89: 6, 90: 49, 91: 62, 92: 63, 93: 64, 94: 42, 95: 47, 96: 49, 97: 35, 98: 3, 99: 11}\n",
      "partition at level 1 is {0: 0, 1: 1, 2: 2, 3: 0, 4: 3, 5: 4, 6: 5, 7: 6, 8: 7, 9: 8, 10: 9, 11: 10, 12: 4, 13: 11, 14: 12, 15: 13, 16: 14, 17: 15, 18: 1, 19: 16, 20: 1, 21: 17, 22: 18, 23: 19, 24: 20, 25: 14, 26: 1, 27: 21, 28: 22, 29: 23, 30: 24, 31: 25, 32: 26, 33: 1, 34: 11, 35: 27, 36: 28, 37: 16, 38: 29, 39: 30, 40: 31, 41: 5, 42: 32, 43: 4, 44: 8, 45: 33, 46: 34, 47: 32, 48: 35, 49: 36, 50: 4, 51: 10, 52: 37, 53: 32, 54: 33, 55: 4, 56: 3, 57: 4, 58: 38, 59: 39, 60: 16, 61: 39, 62: 32, 63: 10, 64: 10, 65: 40, 66: 32, 67: 41, 68: 4, 69: 10, 70: 4, 71: 42, 72: 43, 73: 44, 74: 45, 75: 39, 76: 46, 77: 47, 78: 0, 79: 48, 80: 49, 81: 1, 82: 4, 83: 50, 84: 51, 85: 20, 86: 31, 87: 10, 88: 52, 89: 5, 90: 40, 91: 53, 92: 54, 93: 55, 94: 10, 95: 16, 96: 40, 97: 31, 98: 0, 99: 10}\n"
     ]
    }
   ],
   "source": [
    "G=nx.erdos_renyi_graph(100, 0.01)\n",
    "dendo = cm.generate_dendrogram(G)\n",
    "for level in range(len(dendo) - 1) :\n",
    "    print(\"partition at level\", level,\"is\", cm.partition_at_level(dendo, level))"
   ]
  },
  {
   "cell_type": "code",
   "execution_count": 4,
   "metadata": {},
   "outputs": [
    {
     "data": {
      "text/plain": [
       "3"
      ]
     },
     "execution_count": 4,
     "metadata": {},
     "output_type": "execute_result"
    }
   ],
   "source": [
    "len(dendo)\n",
    "# nx.draw_networkx(dendo)\n"
   ]
  },
  {
   "cell_type": "code",
   "execution_count": null,
   "metadata": {
    "collapsed": true
   },
   "outputs": [],
   "source": []
  }
 ],
 "metadata": {
  "kernelspec": {
   "display_name": "Python 3",
   "language": "python",
   "name": "python3"
  },
  "language_info": {
   "codemirror_mode": {
    "name": "ipython",
    "version": 3
   },
   "file_extension": ".py",
   "mimetype": "text/x-python",
   "name": "python",
   "nbconvert_exporter": "python",
   "pygments_lexer": "ipython3",
   "version": "3.6.4"
  }
 },
 "nbformat": 4,
 "nbformat_minor": 2
}
